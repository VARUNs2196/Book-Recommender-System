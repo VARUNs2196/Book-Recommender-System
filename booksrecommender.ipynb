{
 "cells": [
  {
   "cell_type": "code",
   "execution_count": 1,
   "id": "e2fd2555-c81d-4028-af36-16e9298508ac",
   "metadata": {},
   "outputs": [],
   "source": [
    "import pandas as pd\n",
    "from sklearn.neighbors import NearestNeighbors\n",
    "from difflib import get_close_matches"
   ]
  },
  {
   "cell_type": "code",
   "execution_count": 2,
   "id": "1ca6c928-0a40-4a6c-a7f2-e3b4597337ba",
   "metadata": {},
   "outputs": [],
   "source": [
    "books = pd.read_csv('books.csv')\n",
    "ratings = pd.read_csv('booksratings.csv')"
   ]
  },
  {
   "cell_type": "code",
   "execution_count": 3,
   "id": "41c23331-28fe-4af4-bc09-78806f8bfc0b",
   "metadata": {},
   "outputs": [],
   "source": [
    "data = ratings.merge(books, on='book_id')"
   ]
  },
  {
   "cell_type": "code",
   "execution_count": 4,
   "id": "1a0ca73f-125b-471a-99d4-0e412ecc36a3",
   "metadata": {},
   "outputs": [
    {
     "data": {
      "text/html": [
       "<div>\n",
       "<style scoped>\n",
       "    .dataframe tbody tr th:only-of-type {\n",
       "        vertical-align: middle;\n",
       "    }\n",
       "\n",
       "    .dataframe tbody tr th {\n",
       "        vertical-align: top;\n",
       "    }\n",
       "\n",
       "    .dataframe thead th {\n",
       "        text-align: right;\n",
       "    }\n",
       "</style>\n",
       "<table border=\"1\" class=\"dataframe\">\n",
       "  <thead>\n",
       "    <tr style=\"text-align: right;\">\n",
       "      <th></th>\n",
       "      <th>book_id</th>\n",
       "      <th>user_id</th>\n",
       "      <th>rating</th>\n",
       "      <th>id</th>\n",
       "      <th>best_book_id</th>\n",
       "      <th>work_id</th>\n",
       "      <th>books_count</th>\n",
       "      <th>isbn</th>\n",
       "      <th>isbn13</th>\n",
       "      <th>authors</th>\n",
       "      <th>...</th>\n",
       "      <th>ratings_count</th>\n",
       "      <th>work_ratings_count</th>\n",
       "      <th>work_text_reviews_count</th>\n",
       "      <th>ratings_1</th>\n",
       "      <th>ratings_2</th>\n",
       "      <th>ratings_3</th>\n",
       "      <th>ratings_4</th>\n",
       "      <th>ratings_5</th>\n",
       "      <th>image_url</th>\n",
       "      <th>small_image_url</th>\n",
       "    </tr>\n",
       "  </thead>\n",
       "  <tbody>\n",
       "    <tr>\n",
       "      <th>0</th>\n",
       "      <td>1</td>\n",
       "      <td>314</td>\n",
       "      <td>5</td>\n",
       "      <td>27</td>\n",
       "      <td>1</td>\n",
       "      <td>41335427</td>\n",
       "      <td>275</td>\n",
       "      <td>439785960</td>\n",
       "      <td>9.780440e+12</td>\n",
       "      <td>J.K. Rowling, Mary GrandPré</td>\n",
       "      <td>...</td>\n",
       "      <td>1678823</td>\n",
       "      <td>1785676</td>\n",
       "      <td>27520</td>\n",
       "      <td>7308</td>\n",
       "      <td>21516</td>\n",
       "      <td>136333</td>\n",
       "      <td>459028</td>\n",
       "      <td>1161491</td>\n",
       "      <td>https://images.gr-assets.com/books/1361039191m...</td>\n",
       "      <td>https://images.gr-assets.com/books/1361039191s...</td>\n",
       "    </tr>\n",
       "    <tr>\n",
       "      <th>1</th>\n",
       "      <td>1</td>\n",
       "      <td>439</td>\n",
       "      <td>3</td>\n",
       "      <td>27</td>\n",
       "      <td>1</td>\n",
       "      <td>41335427</td>\n",
       "      <td>275</td>\n",
       "      <td>439785960</td>\n",
       "      <td>9.780440e+12</td>\n",
       "      <td>J.K. Rowling, Mary GrandPré</td>\n",
       "      <td>...</td>\n",
       "      <td>1678823</td>\n",
       "      <td>1785676</td>\n",
       "      <td>27520</td>\n",
       "      <td>7308</td>\n",
       "      <td>21516</td>\n",
       "      <td>136333</td>\n",
       "      <td>459028</td>\n",
       "      <td>1161491</td>\n",
       "      <td>https://images.gr-assets.com/books/1361039191m...</td>\n",
       "      <td>https://images.gr-assets.com/books/1361039191s...</td>\n",
       "    </tr>\n",
       "    <tr>\n",
       "      <th>2</th>\n",
       "      <td>1</td>\n",
       "      <td>588</td>\n",
       "      <td>5</td>\n",
       "      <td>27</td>\n",
       "      <td>1</td>\n",
       "      <td>41335427</td>\n",
       "      <td>275</td>\n",
       "      <td>439785960</td>\n",
       "      <td>9.780440e+12</td>\n",
       "      <td>J.K. Rowling, Mary GrandPré</td>\n",
       "      <td>...</td>\n",
       "      <td>1678823</td>\n",
       "      <td>1785676</td>\n",
       "      <td>27520</td>\n",
       "      <td>7308</td>\n",
       "      <td>21516</td>\n",
       "      <td>136333</td>\n",
       "      <td>459028</td>\n",
       "      <td>1161491</td>\n",
       "      <td>https://images.gr-assets.com/books/1361039191m...</td>\n",
       "      <td>https://images.gr-assets.com/books/1361039191s...</td>\n",
       "    </tr>\n",
       "    <tr>\n",
       "      <th>3</th>\n",
       "      <td>1</td>\n",
       "      <td>1169</td>\n",
       "      <td>4</td>\n",
       "      <td>27</td>\n",
       "      <td>1</td>\n",
       "      <td>41335427</td>\n",
       "      <td>275</td>\n",
       "      <td>439785960</td>\n",
       "      <td>9.780440e+12</td>\n",
       "      <td>J.K. Rowling, Mary GrandPré</td>\n",
       "      <td>...</td>\n",
       "      <td>1678823</td>\n",
       "      <td>1785676</td>\n",
       "      <td>27520</td>\n",
       "      <td>7308</td>\n",
       "      <td>21516</td>\n",
       "      <td>136333</td>\n",
       "      <td>459028</td>\n",
       "      <td>1161491</td>\n",
       "      <td>https://images.gr-assets.com/books/1361039191m...</td>\n",
       "      <td>https://images.gr-assets.com/books/1361039191s...</td>\n",
       "    </tr>\n",
       "    <tr>\n",
       "      <th>4</th>\n",
       "      <td>1</td>\n",
       "      <td>1185</td>\n",
       "      <td>4</td>\n",
       "      <td>27</td>\n",
       "      <td>1</td>\n",
       "      <td>41335427</td>\n",
       "      <td>275</td>\n",
       "      <td>439785960</td>\n",
       "      <td>9.780440e+12</td>\n",
       "      <td>J.K. Rowling, Mary GrandPré</td>\n",
       "      <td>...</td>\n",
       "      <td>1678823</td>\n",
       "      <td>1785676</td>\n",
       "      <td>27520</td>\n",
       "      <td>7308</td>\n",
       "      <td>21516</td>\n",
       "      <td>136333</td>\n",
       "      <td>459028</td>\n",
       "      <td>1161491</td>\n",
       "      <td>https://images.gr-assets.com/books/1361039191m...</td>\n",
       "      <td>https://images.gr-assets.com/books/1361039191s...</td>\n",
       "    </tr>\n",
       "  </tbody>\n",
       "</table>\n",
       "<p>5 rows × 25 columns</p>\n",
       "</div>"
      ],
      "text/plain": [
       "   book_id  user_id  rating  id  best_book_id   work_id  books_count  \\\n",
       "0        1      314       5  27             1  41335427          275   \n",
       "1        1      439       3  27             1  41335427          275   \n",
       "2        1      588       5  27             1  41335427          275   \n",
       "3        1     1169       4  27             1  41335427          275   \n",
       "4        1     1185       4  27             1  41335427          275   \n",
       "\n",
       "        isbn        isbn13                      authors  ...  ratings_count  \\\n",
       "0  439785960  9.780440e+12  J.K. Rowling, Mary GrandPré  ...        1678823   \n",
       "1  439785960  9.780440e+12  J.K. Rowling, Mary GrandPré  ...        1678823   \n",
       "2  439785960  9.780440e+12  J.K. Rowling, Mary GrandPré  ...        1678823   \n",
       "3  439785960  9.780440e+12  J.K. Rowling, Mary GrandPré  ...        1678823   \n",
       "4  439785960  9.780440e+12  J.K. Rowling, Mary GrandPré  ...        1678823   \n",
       "\n",
       "  work_ratings_count work_text_reviews_count ratings_1  ratings_2  ratings_3  \\\n",
       "0            1785676                   27520      7308      21516     136333   \n",
       "1            1785676                   27520      7308      21516     136333   \n",
       "2            1785676                   27520      7308      21516     136333   \n",
       "3            1785676                   27520      7308      21516     136333   \n",
       "4            1785676                   27520      7308      21516     136333   \n",
       "\n",
       "   ratings_4  ratings_5                                          image_url  \\\n",
       "0     459028    1161491  https://images.gr-assets.com/books/1361039191m...   \n",
       "1     459028    1161491  https://images.gr-assets.com/books/1361039191m...   \n",
       "2     459028    1161491  https://images.gr-assets.com/books/1361039191m...   \n",
       "3     459028    1161491  https://images.gr-assets.com/books/1361039191m...   \n",
       "4     459028    1161491  https://images.gr-assets.com/books/1361039191m...   \n",
       "\n",
       "                                     small_image_url  \n",
       "0  https://images.gr-assets.com/books/1361039191s...  \n",
       "1  https://images.gr-assets.com/books/1361039191s...  \n",
       "2  https://images.gr-assets.com/books/1361039191s...  \n",
       "3  https://images.gr-assets.com/books/1361039191s...  \n",
       "4  https://images.gr-assets.com/books/1361039191s...  \n",
       "\n",
       "[5 rows x 25 columns]"
      ]
     },
     "execution_count": 4,
     "metadata": {},
     "output_type": "execute_result"
    }
   ],
   "source": [
    "data.head()"
   ]
  },
  {
   "cell_type": "code",
   "execution_count": 5,
   "id": "f9669328-1a74-476e-984f-095f10166f04",
   "metadata": {},
   "outputs": [
    {
     "name": "stdout",
     "output_type": "stream",
     "text": [
      "<class 'pandas.core.frame.DataFrame'>\n",
      "RangeIndex: 79701 entries, 0 to 79700\n",
      "Data columns (total 25 columns):\n",
      " #   Column                     Non-Null Count  Dtype  \n",
      "---  ------                     --------------  -----  \n",
      " 0   book_id                    79701 non-null  int64  \n",
      " 1   user_id                    79701 non-null  int64  \n",
      " 2   rating                     79701 non-null  int64  \n",
      " 3   id                         79701 non-null  int64  \n",
      " 4   best_book_id               79701 non-null  int64  \n",
      " 5   work_id                    79701 non-null  int64  \n",
      " 6   books_count                79701 non-null  int64  \n",
      " 7   isbn                       78822 non-null  object \n",
      " 8   isbn13                     79303 non-null  float64\n",
      " 9   authors                    79701 non-null  object \n",
      " 10  original_publication_year  79601 non-null  float64\n",
      " 11  original_title             77920 non-null  object \n",
      " 12  title                      79701 non-null  object \n",
      " 13  language_code              68562 non-null  object \n",
      " 14  average_rating             79701 non-null  float64\n",
      " 15  ratings_count              79701 non-null  int64  \n",
      " 16  work_ratings_count         79701 non-null  int64  \n",
      " 17  work_text_reviews_count    79701 non-null  int64  \n",
      " 18  ratings_1                  79701 non-null  int64  \n",
      " 19  ratings_2                  79701 non-null  int64  \n",
      " 20  ratings_3                  79701 non-null  int64  \n",
      " 21  ratings_4                  79701 non-null  int64  \n",
      " 22  ratings_5                  79701 non-null  int64  \n",
      " 23  image_url                  79701 non-null  object \n",
      " 24  small_image_url            79701 non-null  object \n",
      "dtypes: float64(3), int64(15), object(7)\n",
      "memory usage: 15.2+ MB\n"
     ]
    }
   ],
   "source": [
    "data.info()"
   ]
  },
  {
   "cell_type": "code",
   "execution_count": 6,
   "id": "128c695e-3bce-430f-aa4e-12ece131c7c3",
   "metadata": {},
   "outputs": [
    {
     "data": {
      "text/plain": [
       "book_id                       0.000000\n",
       "user_id                       0.000000\n",
       "rating                        0.000000\n",
       "id                            0.000000\n",
       "best_book_id                  0.000000\n",
       "work_id                       0.000000\n",
       "books_count                   0.000000\n",
       "isbn                          1.102872\n",
       "isbn13                        0.499366\n",
       "authors                       0.000000\n",
       "original_publication_year     0.125469\n",
       "original_title                2.234602\n",
       "title                         0.000000\n",
       "language_code                13.975985\n",
       "average_rating                0.000000\n",
       "ratings_count                 0.000000\n",
       "work_ratings_count            0.000000\n",
       "work_text_reviews_count       0.000000\n",
       "ratings_1                     0.000000\n",
       "ratings_2                     0.000000\n",
       "ratings_3                     0.000000\n",
       "ratings_4                     0.000000\n",
       "ratings_5                     0.000000\n",
       "image_url                     0.000000\n",
       "small_image_url               0.000000\n",
       "dtype: float64"
      ]
     },
     "execution_count": 6,
     "metadata": {},
     "output_type": "execute_result"
    }
   ],
   "source": [
    "(data.isnull().sum() / len(data)) * 100"
   ]
  },
  {
   "cell_type": "code",
   "execution_count": 7,
   "id": "89da8a5c-f8b1-414c-a13f-f792d0a3afdc",
   "metadata": {},
   "outputs": [
    {
     "data": {
      "text/plain": [
       "118"
      ]
     },
     "execution_count": 7,
     "metadata": {},
     "output_type": "execute_result"
    }
   ],
   "source": [
    "data.duplicated().sum()"
   ]
  },
  {
   "cell_type": "code",
   "execution_count": 8,
   "id": "dcee1130-e935-419f-92e9-b288e6458a84",
   "metadata": {},
   "outputs": [],
   "source": [
    "data = data.drop_duplicates()"
   ]
  },
  {
   "cell_type": "code",
   "execution_count": 9,
   "id": "94c3c993-d2f2-49f5-aad6-3d6bbde4ae18",
   "metadata": {},
   "outputs": [
    {
     "data": {
      "text/plain": [
       "0"
      ]
     },
     "execution_count": 9,
     "metadata": {},
     "output_type": "execute_result"
    }
   ],
   "source": [
    "data.duplicated().sum()"
   ]
  },
  {
   "cell_type": "code",
   "execution_count": 10,
   "id": "7962e52b-ba88-4be2-9531-fc8b434334d5",
   "metadata": {},
   "outputs": [],
   "source": [
    "pivot_table = data.pivot_table(index='title', columns='user_id', values='rating').fillna(0)"
   ]
  },
  {
   "cell_type": "code",
   "execution_count": 11,
   "id": "c720ee8d-880e-40d5-9ac8-bae1e9bcc0ac",
   "metadata": {},
   "outputs": [
    {
     "name": "stdout",
     "output_type": "stream",
     "text": [
      "Pivot Table Shape: (812, 28906)\n"
     ]
    }
   ],
   "source": [
    "print(\"Pivot Table Shape:\", pivot_table.shape)"
   ]
  },
  {
   "cell_type": "code",
   "execution_count": 12,
   "id": "8a8da2c8-e0fd-43ff-b2e4-2a6a30080ae3",
   "metadata": {},
   "outputs": [],
   "source": [
    "model = NearestNeighbors(metric='cosine', algorithm='brute').fit(pivot_table.values)"
   ]
  },
  {
   "cell_type": "code",
   "execution_count": 13,
   "id": "b2c8d337-92bc-4ba6-b0b0-f40f1f988e5e",
   "metadata": {},
   "outputs": [
    {
     "name": "stdout",
     "output_type": "stream",
     "text": [
      "Because you like 'The First World War', you might also like:\n",
      "\n",
      "1. The Pilot's Wife\n",
      "2. Eats, Shoots & Leaves: The Zero Tolerance Approach to Punctuation\n",
      "3. Built to Last: Successful Habits of Visionary Companies\n",
      "4. The Aleph and Other Stories \n",
      "5. Vampire Mountain (Cirque Du Freak, #4)\n"
     ]
    }
   ],
   "source": [
    "def recommend_books(book_name, n_recommendations=5):\n",
    "    book_name = book_name.lower()\n",
    "    matches = [title for title in pivot_table.index if book_name in title.lower()] or \\\n",
    "             get_close_matches(book_name, pivot_table.index.str.lower(), n=1, cutoff=0.5)\n",
    "    if not matches:\n",
    "        print(f\"No book found for '{book_name}'\")\n",
    "        return\n",
    "    best_match_title = matches[0]\n",
    "    book_idx = pivot_table.index.get_loc(best_match_title)\n",
    "    distances, indices = model.kneighbors(pivot_table.iloc[book_idx].values.reshape(1, -1), n_neighbors=n_recommendations+1)\n",
    "    print(f\"Because you like '{best_match_title}', you might also like:\\n\")\n",
    "    for i in range(1, len(distances.flatten())):\n",
    "        print(f\"{i}. {pivot_table.index[indices.flatten()[i]]}\")\n",
    "recommend_books('The First World War')"
   ]
  }
 ],
 "metadata": {
  "kernelspec": {
   "display_name": "Python 3 (ipykernel)",
   "language": "python",
   "name": "python3"
  },
  "language_info": {
   "codemirror_mode": {
    "name": "ipython",
    "version": 3
   },
   "file_extension": ".py",
   "mimetype": "text/x-python",
   "name": "python",
   "nbconvert_exporter": "python",
   "pygments_lexer": "ipython3",
   "version": "3.12.7"
  }
 },
 "nbformat": 4,
 "nbformat_minor": 5
}
